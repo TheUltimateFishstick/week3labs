{
 "cells": [
  {
   "cell_type": "markdown",
   "id": "61eea7af-de9a-4880-be30-e54c8c64f4b1",
   "metadata": {},
   "source": [
    "\n",
    "This is Troy Morgan's Week 3 Independent Lab for BGEN 632, Graduate Introduction to Python, submitted March 16, 2025. "
   ]
  },
  {
   "cell_type": "markdown",
   "id": "70acde18-bed6-4c7a-9397-5a0dc1005b67",
   "metadata": {},
   "source": [
    "### Product Variables"
   ]
  },
  {
   "cell_type": "code",
   "execution_count": 3,
   "id": "3812f813-12c7-4c43-a552-bde4967cb0e1",
   "metadata": {},
   "outputs": [],
   "source": [
    "prod1 = \"Ship Docking (per day)\"\n",
    "prod1_price = 100.00\n",
    "prod2 = \"Fuel Unit\"\n",
    "prod2_price = 20.00\n",
    "prod3 = \"Photon Torpedo\"\n",
    "prod3_price = 50.00\n",
    "prod4 = \"Rail Cannon Projectile\"\n",
    "prod4_price = 10.00\n",
    "prod5 = \"SpaceSniff Air Freshener\"\n",
    "prod5_price = 5.00\n",
    "\n",
    "total_cost = 0\n",
    "quant1 = 0\n",
    "quant2 = 0\n",
    "quant3 = 0\n",
    "quant4 = 0\n",
    "quant5 = 0"
   ]
  },
  {
   "cell_type": "markdown",
   "id": "dd550c38-339e-41a4-88e2-de933a3b43c9",
   "metadata": {},
   "source": [
    "### Product Menu"
   ]
  },
  {
   "cell_type": "code",
   "execution_count": 5,
   "id": "3814590c-7e36-4e8d-a85a-bf4110e2cb76",
   "metadata": {},
   "outputs": [
    {
     "name": "stdout",
     "output_type": "stream",
     "text": [
      "Greetings and salutations starship commander! This kiosk sells services and supplies for your ship.\n",
      "Please place your order by selecting the product and the quantity you would like to purchase.\n",
      "All prices are represented in Snurlaxian Republic credits.\n",
      " \n",
      "Services and products:\n",
      " \n",
      "| #   |  Product/Service                | Price  |\n",
      "| 1   |  Ship Docking (per day)         | 100.0  |\n",
      "| 2   |  Fuel Unit                      | 20.0   |\n",
      "| 3   |  Photon Torpedo                 | 50.0   |\n",
      "| 4   |  Rail Cannon Projectile         | 10.0   |\n",
      "| 5   |  SpaceSniff Air Freshener       | 5.0    |\n"
     ]
    }
   ],
   "source": [
    "print(\"Greetings and salutations starship commander! This kiosk sells services and supplies for your ship.\")\n",
    "print(\"Please place your order by selecting the product and the quantity you would like to purchase.\")\n",
    "print(\"All prices are represented in Snurlaxian Republic credits.\")\n",
    "print(\" \")\n",
    "print(\"Services and products:\")\n",
    "print(\" \")\n",
    "print(f\"| {'#':<3} |  {'Product/Service':30} | {'Price':<6} |\")\n",
    "print(f\"| {'1':<3} |  {prod1:<30} | {prod1_price:<6} |\")\n",
    "print(f\"| {'2':<3} |  {prod2:<30} | {prod2_price:<6} |\")\n",
    "print(f\"| {'3':<3} |  {prod3:<30} | {prod3_price:<6} |\")\n",
    "print(f\"| {'4':<3} |  {prod4:<30} | {prod4_price:<6} |\")\n",
    "print(f\"| {'5':<3} |  {prod5:<30} | {prod5_price:<6} |\")"
   ]
  },
  {
   "cell_type": "markdown",
   "id": "c364928a-a102-4329-ab22-4e914b2c937f",
   "metadata": {},
   "source": [
    "### Product Selection"
   ]
  },
  {
   "cell_type": "code",
   "execution_count": 7,
   "id": "2b0bd100-0559-4680-8e00-087729418e61",
   "metadata": {},
   "outputs": [
    {
     "name": "stdin",
     "output_type": "stream",
     "text": [
      "Please enter the number of the product or service you would like to purchase: 3\n",
      "Please enter the quantity you would like to purchase: 1\n"
     ]
    },
    {
     "name": "stdout",
     "output_type": "stream",
     "text": [
      "You are purchasing Photon Torpedo; quantity 1.\n",
      "Your current total is 50.0 credits.\n"
     ]
    },
    {
     "name": "stdin",
     "output_type": "stream",
     "text": [
      "Anything else? If so, please enter y. If not, please enter n. y\n"
     ]
    },
    {
     "name": "stdout",
     "output_type": "stream",
     "text": [
      "Preparing to add additional items to your order...\n"
     ]
    },
    {
     "name": "stdin",
     "output_type": "stream",
     "text": [
      "Please enter the number of the product or service you would like to purchase: 5\n",
      "Please enter the quantity you would like to purchase: 2\n"
     ]
    },
    {
     "name": "stdout",
     "output_type": "stream",
     "text": [
      "You are purchasing SpaceSniff Air Freshener; quantity 2.\n",
      "Your current total is 60.0 credits.\n"
     ]
    },
    {
     "name": "stdin",
     "output_type": "stream",
     "text": [
      "Anything else? If so, please enter y. If not, please enter n. n\n"
     ]
    }
   ],
   "source": [
    "\n",
    "while True:\n",
    "\n",
    "    prodserv = int(input(\"Please enter the number of the product or service you would like to purchase:\"))\n",
    "\n",
    "    if prodserv < 1 or prodserv > 5:\n",
    "        print(\"That is not an option. Please choose a number from the menu.\")\n",
    "        continue\n",
    "   \n",
    "    if prodserv == 1:\n",
    "        quant1 = int(input(\"Please enter the quantity you would like to purchase:\"))\n",
    "        print(f\"You are purchasing {prod1}; quantity {quant1}.\")\n",
    "        cost = quant1*prod1_price\n",
    "        total_cost += cost\n",
    "        print(f\"Your current total is {total_cost} credits.\")\n",
    "        \n",
    "    elif prodserv == 2:\n",
    "        quant2 = int(input(\"Please enter the quantity you would like to purchase:\"))\n",
    "        print(f\"You are purchasing {prod2}; quantity {quant2}.\")\n",
    "        cost = quant2*prod2_price\n",
    "        total_cost += cost\n",
    "        print(f\"Your current total is {total_cost} credits.\")\n",
    "\n",
    "    elif prodserv == 3:\n",
    "        quant3 = int(input(\"Please enter the quantity you would like to purchase:\"))\n",
    "        print(f\"You are purchasing {prod3}; quantity {quant3}.\")\n",
    "        cost = quant3*prod3_price\n",
    "        total_cost += cost\n",
    "        print(f\"Your current total is {total_cost} credits.\")\n",
    "\n",
    "    elif prodserv == 4:\n",
    "        quant4 = int(input(\"Please enter the quantity you would like to purchase:\"))\n",
    "        print(f\"You are purchasing {prod4}; quantity {quant4}.\")\n",
    "        cost = quant4*prod4_price\n",
    "        total_cost += cost\n",
    "        print(f\"Your current total is {total_cost} credits.\")\n",
    "\n",
    "    elif prodserv == 5:\n",
    "        quant5 = int(input(\"Please enter the quantity you would like to purchase:\"))\n",
    "        print(f\"You are purchasing {prod5}; quantity {quant5}.\")\n",
    "        cost = quant5*prod5_price\n",
    "        total_cost += cost\n",
    "        print(f\"Your current total is {total_cost} credits.\")\n",
    "\n",
    "    end = str(input(\"Anything else? If so, please enter y. If not, please enter n.\"))\n",
    "\n",
    "    if end == \"y\":\n",
    "        print(\"Preparing to add additional items to your order...\")\n",
    "        continue\n",
    "        \n",
    "    if end == \"n\":\n",
    "        break\n"
   ]
  },
  {
   "cell_type": "markdown",
   "id": "2939525c-6999-4e0f-afb1-0ed68fee03bc",
   "metadata": {},
   "source": [
    "### Order Summary"
   ]
  },
  {
   "cell_type": "code",
   "execution_count": 9,
   "id": "6968197c-73ae-47c6-946a-bfb3b9352c06",
   "metadata": {},
   "outputs": [
    {
     "name": "stdout",
     "output_type": "stream",
     "text": [
      " \n",
      "Here is a summary of your order:\n",
      "|  Product/Service                | Quantity |\n",
      "|  Ship Docking (per day)         |    0     |\n",
      "|  Fuel Unit                      |    0     |\n",
      "|  Photon Torpedo                 |    1     |\n",
      "|  Rail Cannon Projectile         |    0     |\n",
      "|  SpaceSniff Air Freshener       |    2     |\n",
      " \n",
      "Your order total is 60.0 credits.\n",
      "Please enjoy your stay and refrain from smoking in the airlocks.\n",
      "Alarms will sound and you will be blown into the void of space.\n"
     ]
    }
   ],
   "source": [
    "print(\" \")        \n",
    "print(\"Here is a summary of your order:\")\n",
    "\n",
    "print(f\"|  {'Product/Service':30} | {'Quantity':<8} |\")\n",
    "print(f\"|  {prod1:<30} | {quant1:^8} |\")\n",
    "print(f\"|  {prod2:<30} | {quant2:^8} |\")\n",
    "print(f\"|  {prod3:<30} | {quant3:^8} |\")\n",
    "print(f\"|  {prod4:<30} | {quant4:^8} |\")\n",
    "print(f\"|  {prod5:<30} | {quant5:^8} |\")\n",
    "print(\" \")\n",
    "print(f\"Your order total is {total_cost} credits.\")\n",
    "print(\"Please enjoy your stay and refrain from smoking in the airlocks.\")\n",
    "print(\"Alarms will sound and you will be blown into the void of space.\")"
   ]
  },
  {
   "cell_type": "markdown",
   "id": "de2a27b7-b343-4a66-b430-602362584b6b",
   "metadata": {},
   "source": [
    "Oi, this was difficult and took a long time...\n",
    "\n",
    "I did use ChatGPT to get a couple answers about formatting:\n",
    "\n",
    "How can I format this with equal spacing: print(f\"| 1 | {prod1} | {prod1_price} |\")\n",
    "print(f\"| 2 | {prod2} | {prod2_price} |\")\n",
    "print(f\"| 3 | {prod3} | {prod3_price} |\")\n",
    "print(f\"| 4 | {prod4} | {prod4_price} |\")\n",
    "print(f\"| 5 | {prod5} | {prod5_price} |\")\n",
    "ChatGPT said:\n",
    "To ensure equal spacing between columns, you can use Python string formatting with the f-string and specify the width of each column using the :width specifier. This way, each column will have the same length, creating equal spacing.\n",
    "\n",
    "For example, if you want the columns to be at least 10 characters wide (you can adjust the number depending on your needs), you can format each part of the string like this:\n",
    "\n",
    "python\n",
    "Copy\n",
    "print(f\"| {1:<2} | {prod1:<10} | {prod1_price:>10} |\")\n",
    "print(f\"| {2:<2} | {prod2:<10} | {prod2_price:>10} |\")\n",
    "print(f\"| {3:<2} | {prod3:<10} | {prod3_price:>10} |\")\n",
    "print(f\"| {4:<2} | {prod4:<10} | {prod4_price:>10} |\")\n",
    "print(f\"| {5:<2} | {prod5:<10} | {prod5_price:>10} |\")\n",
    "Explanation:\n",
    "\n",
    ":<2 ensures that the product number (1, 2, etc.) takes up at least 2 characters and is left-aligned.\n",
    "<10 ensures the product name is left-aligned and takes up at least 10 characters.\n",
    ":>10 ensures the product price is right-aligned and takes up at least 10 characters.\n",
    "This will produce output like this (assuming values for the products and their prices):\n",
    "\n",
    "Copy\n",
    "| 1  | Product1   |     10.99 |\n",
    "| 2  | Product2   |     15.50 |\n",
    "| 3  | Product3   |     23.75 |\n",
    "| 4  | Product4   |     5.99  |\n",
    "| 5  | Product5   |     12.49 |\n",
    "You can adjust the numbers (10, 2, etc.) to fit your data better.\n",
    "\n",
    "\n",
    "You said:\n",
    "how do I center numbers?\n",
    "ChatGPT said:\n",
    "To center-align the numbers (or any text) in Python string formatting, you can use the :^ specifier in your f-strings. This centers the text within the specified width.\n",
    "\n",
    "For example, if you want to center-align the product numbers and prices, you can adjust the formatting like this:\n",
    "\n",
    "python\n",
    "Copy\n",
    "print(f\"| {1:^2} | {prod1:^10} | {prod1_price:^10} |\")\n",
    "print(f\"| {2:^2} | {prod2:^10} | {prod2_price:^10} |\")\n",
    "print(f\"| {3:^2} | {prod3:^10} | {prod3_price:^10} |\")\n",
    "print(f\"| {4:^2} | {prod4:^10} | {prod4_price:^10} |\")\n",
    "print(f\"| {5:^2} | {prod5:^10} | {prod5_price:^10} |\")\n",
    "Explanation:\n",
    "\n",
    ":^2 centers the product number within 2 characters.\n",
    ":^10 centers the product name and price within 10 characters.\n",
    "This will result in the output being nicely centered within each column:\n",
    "\n",
    "Copy\n",
    "| 1  |  Product1  |   10.99   |\n",
    "| 2  |  Product2  |   15.50   |\n",
    "| 3  |  Product3  |   23.75   |\n",
    "| 4  |  Product4  |   5.99    |\n",
    "| 5  |  Product5  |   12.49   |\n",
    "You can adjust the width values (2, 10, etc.) as needed to fit your data properly."
   ]
  }
 ],
 "metadata": {
  "kernelspec": {
   "display_name": "Python [conda env:base] *",
   "language": "python",
   "name": "conda-base-py"
  },
  "language_info": {
   "codemirror_mode": {
    "name": "ipython",
    "version": 3
   },
   "file_extension": ".py",
   "mimetype": "text/x-python",
   "name": "python",
   "nbconvert_exporter": "python",
   "pygments_lexer": "ipython3",
   "version": "3.12.7"
  }
 },
 "nbformat": 4,
 "nbformat_minor": 5
}
