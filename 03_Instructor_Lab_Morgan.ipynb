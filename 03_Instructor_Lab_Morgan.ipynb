{
 "cells": [
  {
   "cell_type": "markdown",
   "id": "05ed3bd3-df74-4d47-87e2-33fd7943a90f",
   "metadata": {
    "editable": true,
    "slideshow": {
     "slide_type": ""
    },
    "tags": []
   },
   "source": [
    "Welcome, users, to my magical, mystical (Nah, It's just math!) Celsius to Fahrenheit and Kelvin converter, now featuring our patented comparison engine!\n",
    "\n",
    "This is Troy Morgan's Week 3 Instructor Led Lab for BGEN 632, Graduate Introduction to Python, submitted March 16, 2025. "
   ]
  },
  {
   "cell_type": "markdown",
   "id": "e3a75816-36d7-4661-a104-a6d533547e50",
   "metadata": {
    "editable": true,
    "slideshow": {
     "slide_type": ""
    },
    "tags": []
   },
   "source": [
    "### Step 1 - Create Variables"
   ]
  },
  {
   "cell_type": "code",
   "execution_count": 4,
   "id": "566d86be-5c30-42ef-8806-4e924d59379c",
   "metadata": {
    "editable": true,
    "slideshow": {
     "slide_type": ""
    },
    "tags": []
   },
   "outputs": [],
   "source": [
    "celsius = 0.0\n",
    "fahrenheit = 0.0\n",
    "kelvin = 0.0"
   ]
  },
  {
   "cell_type": "markdown",
   "id": "728ee901-f450-48d5-89ca-8f864408a93e",
   "metadata": {
    "editable": true,
    "slideshow": {
     "slide_type": ""
    },
    "tags": []
   },
   "source": [
    "### Step 2 - User Input"
   ]
  },
  {
   "cell_type": "code",
   "execution_count": 6,
   "id": "34de469f-92b1-4691-873b-3ff7f1b8e29c",
   "metadata": {
    "editable": true,
    "slideshow": {
     "slide_type": ""
    },
    "tags": []
   },
   "outputs": [
    {
     "name": "stdin",
     "output_type": "stream",
     "text": [
      "Please provide a value, in Celsius, to convert to Fahrenheit and Kelvin:\n",
      " 0\n"
     ]
    }
   ],
   "source": [
    "text = float(input(\"Please provide a value, in Celsius, to convert to Fahrenheit and Kelvin:\\n\"))"
   ]
  },
  {
   "cell_type": "markdown",
   "id": "d965822a-aa24-4b7b-afa1-0e7d0f5a3769",
   "metadata": {
    "editable": true,
    "slideshow": {
     "slide_type": ""
    },
    "tags": []
   },
   "source": [
    "I chose float so that exact temperatures could be converted. Also, the variables created in Step 1 are floats. "
   ]
  },
  {
   "cell_type": "markdown",
   "id": "59d78c32-6f30-438a-aa23-52eafd52353e",
   "metadata": {
    "editable": true,
    "slideshow": {
     "slide_type": ""
    },
    "tags": []
   },
   "source": [
    "### Step 3 - Conversion"
   ]
  },
  {
   "cell_type": "code",
   "execution_count": 9,
   "id": "256e7af1-755d-46c8-abbb-1ce9fc7b1a0e",
   "metadata": {
    "editable": true,
    "slideshow": {
     "slide_type": ""
    },
    "tags": []
   },
   "outputs": [],
   "source": [
    "celsius = text\n",
    "fahrenheit = (9 / 5) * celsius + 32\n",
    "kelvin = celsius + 273.15"
   ]
  },
  {
   "cell_type": "markdown",
   "id": "4f1379c1-0078-48fe-b350-a52d3720ff31",
   "metadata": {},
   "source": [
    "### Step 4 - Output"
   ]
  },
  {
   "cell_type": "code",
   "execution_count": 11,
   "id": "8a65d5e7-e3ee-4e86-8d12-353811d6a159",
   "metadata": {
    "editable": true,
    "slideshow": {
     "slide_type": ""
    },
    "tags": []
   },
   "outputs": [
    {
     "name": "stdout",
     "output_type": "stream",
     "text": [
      "0.0 degrees Celsius is 32.0 degrees Fahrenheit, which is 273.15 degrees Kelvin.\n"
     ]
    }
   ],
   "source": [
    "print(f\"{celsius} degrees Celsius is {fahrenheit} degrees Fahrenheit, which is {kelvin} degrees Kelvin.\") "
   ]
  },
  {
   "cell_type": "markdown",
   "id": "4ce14f26-67a7-4cea-8458-04687417c864",
   "metadata": {},
   "source": [
    "###  Second Set of Variables "
   ]
  },
  {
   "cell_type": "code",
   "execution_count": 13,
   "id": "5bfc983e-88a1-43de-9a12-d40b5cb59b4f",
   "metadata": {},
   "outputs": [],
   "source": [
    "celsius_two = 0.0\n",
    "fahrenheit_two = 0.0\n",
    "kelvin_two = 0.0"
   ]
  },
  {
   "cell_type": "markdown",
   "id": "4cd8bbc4-1969-4d91-b675-72fe6a981f06",
   "metadata": {},
   "source": [
    "### Second User Input"
   ]
  },
  {
   "cell_type": "code",
   "execution_count": 15,
   "id": "5c698c1b-c4b6-4d84-8c16-e8fa7fa66a3a",
   "metadata": {},
   "outputs": [
    {
     "name": "stdin",
     "output_type": "stream",
     "text": [
      "Please provide another value, in Celsius, to convert to Fahrenheit and Kelvin:\n",
      " -246\n"
     ]
    }
   ],
   "source": [
    "text_two = float(input(\"Please provide another value, in Celsius, to convert to Fahrenheit and Kelvin:\\n\"))"
   ]
  },
  {
   "cell_type": "markdown",
   "id": "9010cb29-8dbd-4867-8ea7-c4b773814899",
   "metadata": {},
   "source": [
    "### Second Conversion"
   ]
  },
  {
   "cell_type": "code",
   "execution_count": 17,
   "id": "f62e4bc4-f8cc-4b67-91d6-3eeb991f1145",
   "metadata": {},
   "outputs": [],
   "source": [
    "celsius_two = text_two\n",
    "fahrenheit_two = (9 / 5) * celsius_two + 32\n",
    "kelvin_two = celsius_two + 273.15"
   ]
  },
  {
   "cell_type": "markdown",
   "id": "51545baa-0f7d-4eac-b29b-19b4c3021ffb",
   "metadata": {},
   "source": [
    "### Second Output"
   ]
  },
  {
   "cell_type": "code",
   "execution_count": 19,
   "id": "b4ae8660-174f-40a1-8c5a-fe3468d85825",
   "metadata": {},
   "outputs": [
    {
     "name": "stdout",
     "output_type": "stream",
     "text": [
      "-246.0 degrees Celsius is -410.8 degrees Fahrenheit, which is 27.149999999999977 degrees Kelvin.\n"
     ]
    }
   ],
   "source": [
    "print(f\"{celsius_two} degrees Celsius is {fahrenheit_two} degrees Fahrenheit, which is {kelvin_two} degrees Kelvin.\") "
   ]
  },
  {
   "cell_type": "markdown",
   "id": "34074c7e-c50c-4fa8-8a0a-fd659337974d",
   "metadata": {},
   "source": [
    "### Comparison of Variables"
   ]
  },
  {
   "cell_type": "code",
   "execution_count": 21,
   "id": "e8ece2a3-1acc-4fd9-9e8c-237e4b1d1803",
   "metadata": {},
   "outputs": [
    {
     "name": "stdout",
     "output_type": "stream",
     "text": [
      "The original Celsius value of 0.0 is larger than the new value of -246.0.\n"
     ]
    }
   ],
   "source": [
    "if celsius > celsius_two:\n",
    "    print(f\"The original Celsius value of {celsius} is larger than the new value of {celsius_two}.\") \n",
    "elif celsius < celsius_two:\n",
    "    print(f\"The original Celsius value of {celsius} is smaller than the new value of {celsius_two}.\") "
   ]
  },
  {
   "cell_type": "code",
   "execution_count": 22,
   "id": "e8175b1e-432f-46a9-a53f-2dff736c4a0b",
   "metadata": {},
   "outputs": [
    {
     "name": "stdout",
     "output_type": "stream",
     "text": [
      "The original Fahrenheit value of 32.0 does not equal the new value of -410.8.\n"
     ]
    }
   ],
   "source": [
    "if fahrenheit == fahrenheit_two:\n",
    "    print(f\"The original Fahrenheit value of {fahrenheit} equals the new value of {fahrenheit_two}.\") \n",
    "elif fahrenheit != fahrenheit_two:\n",
    "    print(f\"The original Fahrenheit value of {fahrenheit} does not equal the new value of {fahrenheit_two}.\") "
   ]
  },
  {
   "cell_type": "code",
   "execution_count": 23,
   "id": "ee00bf41-e385-49a0-9979-b83769a4b835",
   "metadata": {},
   "outputs": [
    {
     "name": "stdout",
     "output_type": "stream",
     "text": [
      "The original Kelvin value of 273.15 is greater than or equal to the new value of 27.149999999999977.\n"
     ]
    }
   ],
   "source": [
    "if kelvin >= kelvin_two:\n",
    "    print(f\"The original Kelvin value of {kelvin} is greater than or equal to the new value of {kelvin_two}.\") \n",
    "elif kelvin <= kelvin_two:\n",
    "    print(f\"The original Kelvin value of {kelvin} is less than or equal to the new value of {kelvin_two}.\") "
   ]
  },
  {
   "cell_type": "markdown",
   "id": "514225a0-11a2-45b5-b320-b64a669cad23",
   "metadata": {},
   "source": [
    "### Logical Operators"
   ]
  },
  {
   "cell_type": "code",
   "execution_count": 25,
   "id": "24870fa6-ac1e-48a2-b891-a0d9ab69ebad",
   "metadata": {},
   "outputs": [
    {
     "name": "stdout",
     "output_type": "stream",
     "text": [
      "celsius > celsius_two and fahrenheit != fahrenheit_two\n",
      "Python speaks the truth!\n"
     ]
    }
   ],
   "source": [
    "print(\"celsius > celsius_two and fahrenheit != fahrenheit_two\")\n",
    "if celsius > celsius_two and fahrenheit != fahrenheit_two:\n",
    "    print(\"Python speaks the truth!\")\n",
    "else:\n",
    "    print (\"Python lies!\")"
   ]
  },
  {
   "cell_type": "code",
   "execution_count": 26,
   "id": "5e230b6f-13f3-42d3-af1e-e1229e6233de",
   "metadata": {},
   "outputs": [
    {
     "name": "stdout",
     "output_type": "stream",
     "text": [
      "celsius < celsius_two or kelvin <= kelvin_two\n",
      "Python lies!\n"
     ]
    }
   ],
   "source": [
    "print(\"celsius < celsius_two or kelvin <= kelvin_two\")\n",
    "if celsius < celsius_two or kelvin <= kelvin_two:\n",
    "    print(\"Python speaks the truth!\")\n",
    "else:\n",
    "    print (\"Python lies!\")"
   ]
  },
  {
   "cell_type": "code",
   "execution_count": null,
   "id": "4d3d5f08-4981-4523-baa0-c03d667d72e0",
   "metadata": {},
   "outputs": [],
   "source": []
  }
 ],
 "metadata": {
  "kernelspec": {
   "display_name": "Python [conda env:base] *",
   "language": "python",
   "name": "conda-base-py"
  },
  "language_info": {
   "codemirror_mode": {
    "name": "ipython",
    "version": 3
   },
   "file_extension": ".py",
   "mimetype": "text/x-python",
   "name": "python",
   "nbconvert_exporter": "python",
   "pygments_lexer": "ipython3",
   "version": "3.12.7"
  }
 },
 "nbformat": 4,
 "nbformat_minor": 5
}
